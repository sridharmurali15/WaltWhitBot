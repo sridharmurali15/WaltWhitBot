{
 "cells": [
  {
   "cell_type": "code",
   "execution_count": 1,
   "id": "72e98557",
   "metadata": {},
   "outputs": [],
   "source": [
    "import keras\n",
    "import numpy as np\n",
    "import tensorflow as tf\n",
    "import nltk\n",
    "from keras import Sequential\n",
    "from tensorflow.keras.layers import Dense, Dropout, LSTM, Bidirectional, Embedding\n",
    "from tensorflow.keras.utils import to_categorical\n",
    "from keras.utils import np_utils\n",
    "import pickle"
   ]
  },
  {
   "cell_type": "code",
   "execution_count": 2,
   "id": "7baa489f",
   "metadata": {},
   "outputs": [],
   "source": [
    "data = open('walt_whitman.txt').read().lower()"
   ]
  },
  {
   "cell_type": "code",
   "execution_count": 3,
   "id": "523f1655",
   "metadata": {},
   "outputs": [
    {
     "name": "stdout",
     "output_type": "stream",
     "text": [
      "64505 53\n"
     ]
    }
   ],
   "source": [
    "chars = sorted(list(set(data)))\n",
    "char_to_id = dict((c,i) for i,c in enumerate(chars))\n",
    "id_to_char = dict((i,c) for i,c in enumerate(chars))\n",
    "n_chars = len(chars)\n",
    "n_data = len(data.split())\n",
    "print(n_data, n_chars)"
   ]
  },
  {
   "cell_type": "code",
   "execution_count": 4,
   "id": "4fc11f9f",
   "metadata": {},
   "outputs": [
    {
     "name": "stdout",
     "output_type": "stream",
     "text": [
      "one’s-self i sing\n",
      "\n",
      "  one’s-self i sing, a simple s\n",
      "[37, 36, 27, 50, 41, 6, 41, 27, 34, 28, 1, 31, 1, 41, 31, 36, 29, 0, 0, 1, 1, 37, 36, 27, 50, 41, 6, 41, 27, 34, 28, 1, 31, 1, 41, 31, 36, 29, 5, 1, 23, 1, 41, 31, 35, 38, 34, 27, 1, 41, 27, 38, 23, 40, 23, 42, 27, 1, 38, 27, 40, 41, 37, 36, 5, 0, 1, 1, 47, 27, 42, 1, 43, 42, 42, 27, 40, 1, 42, 30, 27, 1, 45, 37, 40, 26, 1, 26, 27, 35, 37, 25, 40, 23, 42, 31, 25, 5, 1, 42]\n",
      "30\n"
     ]
    }
   ],
   "source": [
    "train_length = 100\n",
    "X = []\n",
    "Y = []\n",
    "for i in range(0,n_data - train_length):\n",
    "    X.append([char_to_id[char] for char in data[i:i+train_length]])\n",
    "    Y.append(char_to_id[data[i+train_length]])\n",
    "n_trainx = len(X)\n",
    "print(data[0:50])\n",
    "print(X[0])\n",
    "print(Y[0])"
   ]
  },
  {
   "cell_type": "code",
   "execution_count": 5,
   "id": "e5dbc3b2",
   "metadata": {},
   "outputs": [],
   "source": [
    "X_modified = np.reshape(X, (len(X), train_length, 1))\n",
    "X_modified = X_modified / float(len(chars))\n",
    "Y_modified = np_utils.to_categorical(Y)"
   ]
  },
  {
   "cell_type": "code",
   "execution_count": 6,
   "id": "a25c3437",
   "metadata": {},
   "outputs": [
    {
     "name": "stdout",
     "output_type": "stream",
     "text": [
      "Metal device set to: Apple M1\n"
     ]
    },
    {
     "name": "stderr",
     "output_type": "stream",
     "text": [
      "2022-03-23 21:43:54.027342: I tensorflow/core/common_runtime/pluggable_device/pluggable_device_factory.cc:305] Could not identify NUMA node of platform GPU ID 0, defaulting to 0. Your kernel may not have been built with NUMA support.\n",
      "2022-03-23 21:43:54.028190: I tensorflow/core/common_runtime/pluggable_device/pluggable_device_factory.cc:271] Created TensorFlow device (/job:localhost/replica:0/task:0/device:GPU:0 with 0 MB memory) -> physical PluggableDevice (device: 0, name: METAL, pci bus id: <undefined>)\n"
     ]
    }
   ],
   "source": [
    "model = Sequential()\n",
    "model.add(LSTM(400, input_shape=(X_modified.shape[1], X_modified.shape[2]), return_sequences=True))\n",
    "model.add(Dropout(0.2))\n",
    "model.add(LSTM(700))\n",
    "model.add(Dropout(0.2))\n",
    "model.add(Dense(Y_modified.shape[1], activation='softmax'))\n",
    "model.compile(loss='categorical_crossentropy', optimizer='adam')"
   ]
  },
  {
   "cell_type": "code",
   "execution_count": null,
   "id": "5e5a55a3",
   "metadata": {},
   "outputs": [
    {
     "name": "stderr",
     "output_type": "stream",
     "text": [
      "2022-03-23 21:44:05.000557: W tensorflow/core/platform/profile_utils/cpu_utils.cc:128] Failed to get CPU frequency: 0 Hz\n"
     ]
    },
    {
     "name": "stdout",
     "output_type": "stream",
     "text": [
      "Epoch 1/100\n"
     ]
    },
    {
     "name": "stderr",
     "output_type": "stream",
     "text": [
      "2022-03-23 21:44:05.789920: I tensorflow/core/grappler/optimizers/custom_graph_optimizer_registry.cc:112] Plugin optimizer for device_type GPU is enabled.\n",
      "2022-03-23 21:44:06.028829: I tensorflow/core/grappler/optimizers/custom_graph_optimizer_registry.cc:112] Plugin optimizer for device_type GPU is enabled.\n",
      "2022-03-23 21:44:07.285459: I tensorflow/core/grappler/optimizers/custom_graph_optimizer_registry.cc:112] Plugin optimizer for device_type GPU is enabled.\n",
      "2022-03-23 21:44:11.400131: I tensorflow/core/grappler/optimizers/custom_graph_optimizer_registry.cc:112] Plugin optimizer for device_type GPU is enabled.\n",
      "2022-03-23 21:44:14.267850: I tensorflow/core/grappler/optimizers/custom_graph_optimizer_registry.cc:112] Plugin optimizer for device_type GPU is enabled.\n"
     ]
    },
    {
     "name": "stdout",
     "output_type": "stream",
     "text": [
      "  4/126 [..............................] - ETA: 38:56 - loss: 2.9050"
     ]
    }
   ],
   "source": [
    "model.fit(X_modified, Y_modified, epochs=100, batch_size=512)"
   ]
  },
  {
   "cell_type": "code",
   "execution_count": null,
   "id": "47402eb2",
   "metadata": {},
   "outputs": [],
   "source": []
  }
 ],
 "metadata": {
  "kernelspec": {
   "display_name": "Python 3 (ipykernel)",
   "language": "python",
   "name": "python3"
  },
  "language_info": {
   "codemirror_mode": {
    "name": "ipython",
    "version": 3
   },
   "file_extension": ".py",
   "mimetype": "text/x-python",
   "name": "python",
   "nbconvert_exporter": "python",
   "pygments_lexer": "ipython3",
   "version": "3.9.7"
  }
 },
 "nbformat": 4,
 "nbformat_minor": 5
}
